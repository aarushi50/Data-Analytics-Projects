{
 "cells": [
  {
   "cell_type": "markdown",
   "id": "8a071bf0-0e2d-4498-98c5-7b7998dbce85",
   "metadata": {},
   "source": [
    "## ShopSpectra Marketing A/B Testing\n",
    "\n",
    "Scenario: ShopSpectra, an online retail company, wants to determine if targeted advertisements increase conversion rate as compared to showing their current public service announcements (PSAs) or nothing at all. They are hopeful to see a **2%** change in conversion from **1%** to **3%**. To do this, they run an A/B test to measure the impact of showing Ads or PSAs on the conversion rate. Essentially, conversion or no conversion means whether people end up buying a product or not. \n",
    "\n",
    "Purpose: The aim is to find if showing the targeted ads created any impact. In other words, was the campaign successful? And if successful, what is the measured impact?\n",
    "\n",
    "There are total 6 steps in this A/B testing process:\n",
    "1. State Business Hypothesis, Select Primary Metric and State Statistical Hypothesis\n",
    "2. Perform Power Analysis, find Minimum Sample Size and Test Duration\n",
    "3. Run the experiment and Collect the data\n",
    "4. Analyze + Visualize the data\n",
    "5. Test the hypothesis\n",
    "6. Draw the conclusion\n",
    "\n",
    "Let's begin !"
   ]
  },
  {
   "cell_type": "markdown",
   "id": "b5046042-5c22-4b8a-8054-9f8eaa0275dc",
   "metadata": {},
   "source": [
    "### Step 1: State Business Hypothesis, Select Primary Metric and State Statistical Hypothesis\n",
    "\n",
    "\n",
    "1. Business Hypothesis: Showing ads will increase the conversion rate of customers. \n",
    "\n",
    "2. Primary Metric selected:  P = Conversion Rate\n",
    "\n",
    "3. Statistical Hypothesis: Given P(Ad) = conversion rate when Ads are shown and P(PSA) = conversion rate when PSA or nothing is shown\n",
    "                        \n",
    "```python\n",
    "Ho: Conversion rate of PSA or nothing is SAME as when showing Ads          => P(PSA) = P(Ad) \n",
    "Ha: Conversion rate of PSA or nothing is NOT SAME as when showing Ads      => P(PSA) != P(Ad)\n",
    "```\n",
    "\n",
    "4. Choosing Variables:\\\n",
    "\\\n",
    "    Independent Variable: We have two groups represented by the variable (or column) \"test group\" \\\n",
    "        1. Control Group - Nothing or only PSA is shown to this group. The columm value is \"psa\" in this case. \\\n",
    "        2. Experimental Group - Ads are shown to this group. The column value is \"ad\" in this case.          \n",
    "\\\n",
    "    Dependent Variable: \"converted\" or the conversion rate. This is a binary variable with two value:\\\n",
    "        1. True if the conversion occurs.\\\n",
    "        2. False if the conversion does not occur.\n",
    "\n",
    "                 "
   ]
  },
  {
   "cell_type": "markdown",
   "id": "6e8f70ce-81f2-476c-b7b2-79d61ba8fd69",
   "metadata": {},
   "source": [
    "### Step 2: Perform Power Analysis, find Minimum Sample Size and Test Duration\n",
    "\n",
    "In this, step we find the value of the five required variables:\n",
    "\n",
    "- Significance Level OR alpha\n",
    "- Statistical Power OR 1 - beta\n",
    "- Minimum Detectable Change OR delta\n",
    "- Minimum Sample Size\n",
    "- Test Duration\n",
    "\n",
    "\n",
    "Let's understand each of them one-by-one.\n"
   ]
  },
  {
   "cell_type": "markdown",
   "id": "63250f14-cb64-418f-9ec3-3dfbc72324a8",
   "metadata": {},
   "source": [
    "#### 1. Significance Level OR alpha\n",
    "\n",
    "Significance Level for this experiment: alpha = 5% OR CI = 95% (standard)\n",
    "\n",
    "Alpha (α) represents the significance level of the A/B test. It is the probability of rejecting the null hypothesis (Ho) when it is actually true. In other words, it measures the likelihood of a Type I error — a false positive.\n",
    "\n",
    "Common values for alpha are 0.05 or 0.01, meaning a 5% or 1% chance of incorrectly rejecting the null hypothesis.\n",
    "\n",
    "If α = 0.05, there is a 5% chance that we will conclude that the difference between the control and experimental groups is statistically significant when, in fact, there is no real difference (false positive). This represents our tolerance for the risk of finding a difference that doesn't actually exist.\n"
   ]
  },
  {
   "cell_type": "markdown",
   "id": "c60a4d2f-ebdf-4bfc-89fc-a644b08f5ce4",
   "metadata": {},
   "source": [
    "#### 2. Statistical Power OR 1 - beta\n",
    "\n",
    "Statistical Power for this experiment: beta = 20% , 1- beta = 80% (standard)\n",
    "\n",
    "Statistical Power or (1-β) is known as the statistical power of the A/B test. It represents the probability of correctly rejecting the null hypothesis when it is false. In other words, it’s the likelihood of detecting a true effect (difference) if it exists. Beta (β) represents the probability of a Type II error — a false negative.\n",
    "\n",
    "Statistical Power is usually set to 0.8 (80%), meaning there’s an 80% chance of detecting a real difference between the control and experimental groups if one exists.\n",
    "\n",
    "If 1-β = 0.80, there’s an 80% chance that the test will correctly identify a real difference between the groups, and only a 20% chance of missing that difference (false negative). Higher power means the test is more likely to detect meaningful effects, especially if the sample size is adequate.\n"
   ]
  },
  {
   "cell_type": "markdown",
   "id": "ef988da1-8917-4d07-bf78-a633a97fc2a6",
   "metadata": {
    "jp-MarkdownHeadingCollapsed": true
   },
   "source": [
    "#### 3. Minimum Detectable Change or delta\n",
    "\n",
    "Here, delta = 2%, that means if a 2% change is observed, the results are practically significant to implement the new Ad strategy. But we cannot use 2% directly as effect size. It requires one additional step where we calculate proportional sample size before we get proportion effect size. To understand this, first let's understand types of effect size.\n",
    "\n",
    "**Types of Effect Size**\n",
    "\n",
    "Effect size can either be **Absolute** or **Relative**.\n",
    "\n",
    "Relative Effect Size means the difference % between the new and old value i.e. (New Value - Old Value)/Old Value * 100. It used for scenarios where we test whether the avg value between two group is different or not. Example: average order value differs between two groups, average session time between users shown two different page layouts. In this scenario, Relative Effect Size is (3 - 1)/2 *100 = 100%\n",
    "    \n",
    "Absolute Effect Size means the direct difference in metric i.e. New value - Old Value. It is used when the primary metric has binary outcome. Example: whether the conversion rate (e.g., the percentage of users making a purchase) differs between two groups, click-through rate (CTR) between users who see different ads. In this scenario, Absolute Difference is 3% - 1% = 2%. \n",
    "\n",
    "\n",
    "**The Additional Step**\n",
    "\n",
    "Before feeding effect size to the main function that calculates sample size, we do an additional step of calculating proportional effect size. We use **proportion_samplesize()** from **statsmodels module** to get proportional effect size **before calculating Sample Size**.\n",
    "\n",
    "- When **relative effect size** is given, then we need to calculate the absolute measure from it i.e. get the old and new metric values so that you can use those in the **proportion_samplesize()** function.\n",
    "\n",
    "- When **absolute effect size** is given, then we can use those values directly in the **proportion_samplesize()** function. \n",
    "\n",
    "**But why this additional step?**\n",
    "\n",
    "- Absolute difference alone doesn’t account for the variability and distribution of the data. For example, going from 10% to 15% (5 percentage points difference) has a different impact than going from 50% to 55%, even though the absolute difference is the same.\n",
    "\n",
    "- proportion_effectsize() standardizes the difference between proportions, making the sample size calculation more accurate by considering the variability at different baseline rates.\n",
    "\n",
    "- This ensures that your A/B test has enough power to detect a statistically significant effect.\n",
    "\n",
    "\n",
    "\n",
    "\n"
   ]
  },
  {
   "cell_type": "markdown",
   "id": "3f9f20e1-f4ee-4cac-bc60-24f5c3e5e3c7",
   "metadata": {},
   "source": [
    "#### 4. Sample Size\n",
    "\n",
    "It is not possible to test the whole audience base (the population) therefore, we need take sample from the population. It is important to realize that what we find based on the sample group represnts only the estimates of actual conversion rate and not the conversion rate itself.\n",
    "\n",
    "To calculate sample size, we will use all the above variable values. We can do this very well in Python itself or use online calculators.\n",
    "\\\n",
    "1. In Python, one way is to use two functions that belong to statsmodel library:\n",
    "\n",
    "    When the **primary metric you're testing is a proportion or binary outcome**, such as conversion rate, click-through rate (CTR), or any yes/no outcome, first use\n",
    "    ```python\n",
    "            proportion_effectsize(baseline_rate== --, target_rate== --)\n",
    "    ```\n",
    "    followed by\n",
    "    \n",
    "    ```python\n",
    "            NormalIndPower().solve_power(effect_size= --, power= --, alpha= -- , ratio= -- )\n",
    "    ```\n",
    "    \n",
    "    When the **primary metric you're testing is a continuous variable**, such as average purchase amount, time spent on the website, or average click-through rate duration, use\n",
    "    ```python\n",
    "            proportion_effectsize(baseline_rate== --, target_rate== --)\n",
    "    ```\n",
    "    followed by\n",
    "    ```python\n",
    "            tt_ind_solve_power(effect_size= --, nobs1= --, alpha= --, power= --, ratio= --)\n",
    "    ```\n",
    "\n",
    " 2. Another way is to use online calculators like ABTasty calculator."
   ]
  },
  {
   "cell_type": "code",
   "execution_count": 1,
   "id": "5e4c095b-af58-4c62-8fb4-140304b7704f",
   "metadata": {},
   "outputs": [],
   "source": [
    "# import libraries needed for the whole experiment\n",
    "\n",
    "## libraries for stats calculations\n",
    "import scipy.stats as stats\n",
    "import statsmodels.stats.api as sms # check if needed\n",
    "from math import ceil\n",
    "\n",
    "## libararies for data analysis\n",
    "import numpy as np\n",
    "import pandas as pd\n",
    "import matplotlib as mpl\n",
    "import matplotlib.pyplot as plt\n",
    "import seaborn as sns\n",
    "\n",
    "\n",
    "import warnings\n",
    "warnings.filterwarnings(\"ignore\")"
   ]
  },
  {
   "cell_type": "code",
   "execution_count": 2,
   "id": "23651aee-a0e2-4743-8aaf-fd9d03e37550",
   "metadata": {},
   "outputs": [
    {
     "data": {
      "text/plain": [
       "4720"
      ]
     },
     "execution_count": 2,
     "metadata": {},
     "output_type": "execute_result"
    }
   ],
   "source": [
    "# Sample size calcuation\n",
    "\n",
    "delta = sms.proportion_effectsize(0.13, 0.15)\n",
    "\n",
    "required_sample_size = sms.NormalIndPower().solve_power(\n",
    "    effect_size = delta,\n",
    "    power = 0.8,\n",
    "    alpha = 0.05,\n",
    "    ratio=1 )\n",
    "\n",
    "required_sample_size = ceil(required_sample_size) \n",
    "#ceil is necessary to use so that the value is converted to int type for using it in other funnctions as input.\n",
    "\n",
    "required_sample_size"
   ]
  },
  {
   "cell_type": "markdown",
   "id": "d4dd4a0e-49c2-4ce6-8aa2-48806819f4a6",
   "metadata": {},
   "source": [
    "So, we need minimum 4720 samples to see the desired effect.\n",
    "\n",
    "Therefore, we need 4720 observations for both control group and experimental group each. Total observation will be 9440."
   ]
  },
  {
   "cell_type": "markdown",
   "id": "edcd6b36-02e2-4855-be7c-c5993af1a43d",
   "metadata": {
    "jp-MarkdownHeadingCollapsed": true
   },
   "source": [
    "#### 5. Test Duration\n",
    "\n",
    "For this experiment, the test data is already collected so this is not significant. However, in real-world scenario, calculating this variable gives an estimate of how long the experiment should run to collect the desired samples. \n",
    "\n",
    "**Test Duration = Required Sample Size for each group / Daily Traffic per variant**\n",
    "\n",
    "Total Required Sample Size for each group is 4720.  \n",
    "Let's assume that daily avg traffic is 1000.Then Daily Traffic per variant = 1000 / 2 = 500.  \n",
    "Test Duration = 4720 / 500 = 9.44\n",
    "\n",
    "\n",
    "Therefore, in approximately 10 days, we will be able to collect 4720 samples for both control and experimental group each at the same time. "
   ]
  },
  {
   "cell_type": "markdown",
   "id": "7c333e60-7ff4-4731-aa96-8cb686f6af3e",
   "metadata": {},
   "source": [
    "### Step 3: Run the experiment and Collect the data\n",
    "\n",
    "Now that we have the sample size, we go ahead and collect data. At this point, in an actual project, you will work with your team to set up the experiment and make sure that enough data is collected.\n",
    "\n",
    "For this case, I am using a dataset that I found on Kaggle that has 588,101 observations. So, I will take a random sample of 4720 observations for both control and experimental group each to duplicate the experiment conditions. This means that the sample should have 4720 observations with \"test group\" = ad and 4720 observations with \"test group\" = psa.\n",
    "\n",
    "[Click here](https://www.kaggle.com/datasets/faviovaz/marketing-ab-testing/data) to download the dataset from Kaggle.\n",
    "\n",
    "\n",
    "\n",
    "First, let's make sure we have the clean and correct data. To do so, we will follow the given below steps:\n",
    "\n",
    "1. Clean the dataset. Drop any unwanted columns.\n",
    "2. Remove duplicates. Check for duplicate users and if any are found, remove them from the dataset.\n",
    "3. Perform sampling. As mentioned above, this is a downloaded dataset so to follow the experiment conditions, I will perform sampling to ensure we have the desired sample size. \n"
   ]
  },
  {
   "cell_type": "code",
   "execution_count": 3,
   "id": "a4f9d8d3-f0df-4ebb-9bd7-6f74fc4ec088",
   "metadata": {},
   "outputs": [
    {
     "data": {
      "text/html": [
       "<div>\n",
       "<style scoped>\n",
       "    .dataframe tbody tr th:only-of-type {\n",
       "        vertical-align: middle;\n",
       "    }\n",
       "\n",
       "    .dataframe tbody tr th {\n",
       "        vertical-align: top;\n",
       "    }\n",
       "\n",
       "    .dataframe thead th {\n",
       "        text-align: right;\n",
       "    }\n",
       "</style>\n",
       "<table border=\"1\" class=\"dataframe\">\n",
       "  <thead>\n",
       "    <tr style=\"text-align: right;\">\n",
       "      <th></th>\n",
       "      <th>Unnamed: 0</th>\n",
       "      <th>user id</th>\n",
       "      <th>total ads</th>\n",
       "      <th>most ads hour</th>\n",
       "    </tr>\n",
       "  </thead>\n",
       "  <tbody>\n",
       "    <tr>\n",
       "      <th>count</th>\n",
       "      <td>588101.000000</td>\n",
       "      <td>5.881010e+05</td>\n",
       "      <td>588101.000000</td>\n",
       "      <td>588101.000000</td>\n",
       "    </tr>\n",
       "    <tr>\n",
       "      <th>mean</th>\n",
       "      <td>294050.000000</td>\n",
       "      <td>1.310692e+06</td>\n",
       "      <td>24.820876</td>\n",
       "      <td>14.469061</td>\n",
       "    </tr>\n",
       "    <tr>\n",
       "      <th>std</th>\n",
       "      <td>169770.279667</td>\n",
       "      <td>2.022260e+05</td>\n",
       "      <td>43.715181</td>\n",
       "      <td>4.834634</td>\n",
       "    </tr>\n",
       "    <tr>\n",
       "      <th>min</th>\n",
       "      <td>0.000000</td>\n",
       "      <td>9.000000e+05</td>\n",
       "      <td>1.000000</td>\n",
       "      <td>0.000000</td>\n",
       "    </tr>\n",
       "    <tr>\n",
       "      <th>25%</th>\n",
       "      <td>147025.000000</td>\n",
       "      <td>1.143190e+06</td>\n",
       "      <td>4.000000</td>\n",
       "      <td>11.000000</td>\n",
       "    </tr>\n",
       "    <tr>\n",
       "      <th>50%</th>\n",
       "      <td>294050.000000</td>\n",
       "      <td>1.313725e+06</td>\n",
       "      <td>13.000000</td>\n",
       "      <td>14.000000</td>\n",
       "    </tr>\n",
       "    <tr>\n",
       "      <th>75%</th>\n",
       "      <td>441075.000000</td>\n",
       "      <td>1.484088e+06</td>\n",
       "      <td>27.000000</td>\n",
       "      <td>18.000000</td>\n",
       "    </tr>\n",
       "    <tr>\n",
       "      <th>max</th>\n",
       "      <td>588100.000000</td>\n",
       "      <td>1.654483e+06</td>\n",
       "      <td>2065.000000</td>\n",
       "      <td>23.000000</td>\n",
       "    </tr>\n",
       "  </tbody>\n",
       "</table>\n",
       "</div>"
      ],
      "text/plain": [
       "          Unnamed: 0       user id      total ads  most ads hour\n",
       "count  588101.000000  5.881010e+05  588101.000000  588101.000000\n",
       "mean   294050.000000  1.310692e+06      24.820876      14.469061\n",
       "std    169770.279667  2.022260e+05      43.715181       4.834634\n",
       "min         0.000000  9.000000e+05       1.000000       0.000000\n",
       "25%    147025.000000  1.143190e+06       4.000000      11.000000\n",
       "50%    294050.000000  1.313725e+06      13.000000      14.000000\n",
       "75%    441075.000000  1.484088e+06      27.000000      18.000000\n",
       "max    588100.000000  1.654483e+06    2065.000000      23.000000"
      ]
     },
     "execution_count": 3,
     "metadata": {},
     "output_type": "execute_result"
    }
   ],
   "source": [
    "# Read the data\n",
    "\n",
    "df = pd.read_csv(\"/Users/maatoka/Tech Projects/Datasets/marketing_AB.csv\")\n",
    "df.describe()"
   ]
  },
  {
   "cell_type": "code",
   "execution_count": 4,
   "id": "a6fabac2-9d4f-4e44-9772-7babdaacb163",
   "metadata": {},
   "outputs": [
    {
     "name": "stdout",
     "output_type": "stream",
     "text": [
      "<class 'pandas.core.frame.DataFrame'>\n",
      "RangeIndex: 588101 entries, 0 to 588100\n",
      "Data columns (total 7 columns):\n",
      " #   Column         Non-Null Count   Dtype \n",
      "---  ------         --------------   ----- \n",
      " 0   Unnamed: 0     588101 non-null  int64 \n",
      " 1   user id        588101 non-null  int64 \n",
      " 2   test group     588101 non-null  object\n",
      " 3   converted      588101 non-null  bool  \n",
      " 4   total ads      588101 non-null  int64 \n",
      " 5   most ads day   588101 non-null  object\n",
      " 6   most ads hour  588101 non-null  int64 \n",
      "dtypes: bool(1), int64(4), object(2)\n",
      "memory usage: 27.5+ MB\n"
     ]
    }
   ],
   "source": [
    "df.info()"
   ]
  },
  {
   "cell_type": "code",
   "execution_count": 5,
   "id": "b65ab1ad-13c0-48e2-8fcb-994289fff4e9",
   "metadata": {},
   "outputs": [
    {
     "data": {
      "text/plain": [
       "Index(['Unnamed: 0', 'user id', 'test group', 'converted', 'total ads',\n",
       "       'most ads day', 'most ads hour'],\n",
       "      dtype='object')"
      ]
     },
     "execution_count": 5,
     "metadata": {},
     "output_type": "execute_result"
    }
   ],
   "source": [
    "df.columns"
   ]
  },
  {
   "cell_type": "markdown",
   "id": "4a22a11c-b715-4820-b7d2-4a1c242b3bf2",
   "metadata": {},
   "source": [
    "#### Step 3.1 : Clean the dataset"
   ]
  },
  {
   "cell_type": "code",
   "execution_count": 6,
   "id": "187ffbc3-aa93-4d19-8cda-e576e6b287aa",
   "metadata": {
    "scrolled": true
   },
   "outputs": [
    {
     "data": {
      "text/html": [
       "<div>\n",
       "<style scoped>\n",
       "    .dataframe tbody tr th:only-of-type {\n",
       "        vertical-align: middle;\n",
       "    }\n",
       "\n",
       "    .dataframe tbody tr th {\n",
       "        vertical-align: top;\n",
       "    }\n",
       "\n",
       "    .dataframe thead th {\n",
       "        text-align: right;\n",
       "    }\n",
       "</style>\n",
       "<table border=\"1\" class=\"dataframe\">\n",
       "  <thead>\n",
       "    <tr style=\"text-align: right;\">\n",
       "      <th></th>\n",
       "      <th>user id</th>\n",
       "      <th>test group</th>\n",
       "      <th>converted</th>\n",
       "    </tr>\n",
       "  </thead>\n",
       "  <tbody>\n",
       "    <tr>\n",
       "      <th>0</th>\n",
       "      <td>1069124</td>\n",
       "      <td>ad</td>\n",
       "      <td>False</td>\n",
       "    </tr>\n",
       "    <tr>\n",
       "      <th>1</th>\n",
       "      <td>1119715</td>\n",
       "      <td>ad</td>\n",
       "      <td>False</td>\n",
       "    </tr>\n",
       "    <tr>\n",
       "      <th>2</th>\n",
       "      <td>1144181</td>\n",
       "      <td>ad</td>\n",
       "      <td>False</td>\n",
       "    </tr>\n",
       "    <tr>\n",
       "      <th>3</th>\n",
       "      <td>1435133</td>\n",
       "      <td>ad</td>\n",
       "      <td>False</td>\n",
       "    </tr>\n",
       "    <tr>\n",
       "      <th>4</th>\n",
       "      <td>1015700</td>\n",
       "      <td>ad</td>\n",
       "      <td>False</td>\n",
       "    </tr>\n",
       "  </tbody>\n",
       "</table>\n",
       "</div>"
      ],
      "text/plain": [
       "   user id test group  converted\n",
       "0  1069124         ad      False\n",
       "1  1119715         ad      False\n",
       "2  1144181         ad      False\n",
       "3  1435133         ad      False\n",
       "4  1015700         ad      False"
      ]
     },
     "execution_count": 6,
     "metadata": {},
     "output_type": "execute_result"
    }
   ],
   "source": [
    "# Dropping the columns that are needed. \n",
    "# Here, our primary metric is conversion rate so I will only keep columns (user id, test group, converted).\n",
    "\n",
    "df.drop(['Unnamed: 0','total ads', 'most ads day', 'most ads hour'], axis=1, inplace= True)\n",
    "\n",
    "df.head()\n"
   ]
  },
  {
   "cell_type": "code",
   "execution_count": 7,
   "id": "823d2fdb-7222-4e43-897e-c2b513eb6f51",
   "metadata": {},
   "outputs": [
    {
     "data": {
      "text/html": [
       "<div>\n",
       "<style scoped>\n",
       "    .dataframe tbody tr th:only-of-type {\n",
       "        vertical-align: middle;\n",
       "    }\n",
       "\n",
       "    .dataframe tbody tr th {\n",
       "        vertical-align: top;\n",
       "    }\n",
       "\n",
       "    .dataframe thead th {\n",
       "        text-align: right;\n",
       "    }\n",
       "</style>\n",
       "<table border=\"1\" class=\"dataframe\">\n",
       "  <thead>\n",
       "    <tr style=\"text-align: right;\">\n",
       "      <th></th>\n",
       "      <th>user id</th>\n",
       "    </tr>\n",
       "    <tr>\n",
       "      <th>test group</th>\n",
       "      <th></th>\n",
       "    </tr>\n",
       "  </thead>\n",
       "  <tbody>\n",
       "    <tr>\n",
       "      <th>ad</th>\n",
       "      <td>564577</td>\n",
       "    </tr>\n",
       "    <tr>\n",
       "      <th>psa</th>\n",
       "      <td>23524</td>\n",
       "    </tr>\n",
       "  </tbody>\n",
       "</table>\n",
       "</div>"
      ],
      "text/plain": [
       "            user id\n",
       "test group         \n",
       "ad           564577\n",
       "psa           23524"
      ]
     },
     "execution_count": 7,
     "metadata": {},
     "output_type": "execute_result"
    }
   ],
   "source": [
    "# Let's see how the data looks like. Let's see count of observations for each group.\n",
    "\n",
    "df.groupby('test group').count()[['user id']]\n"
   ]
  },
  {
   "cell_type": "markdown",
   "id": "c7055725-64f0-47fc-b1ec-e13555fef66c",
   "metadata": {},
   "source": [
    "There are 564,577 customers that saw the Ad and 23,524 customers who saw PSA or nothing at all."
   ]
  },
  {
   "cell_type": "markdown",
   "id": "b099d2df-e78b-4c3a-bc4f-4038503d659f",
   "metadata": {},
   "source": [
    "#### 3.2 Remove duplicates\n",
    "\n",
    "Before sampling, let's make sure to remove duplicate user ids. We need to remove them so that they are not sampled multiple times."
   ]
  },
  {
   "cell_type": "code",
   "execution_count": 8,
   "id": "0fe2fb64-c9fd-496d-a263-f84782500351",
   "metadata": {},
   "outputs": [
    {
     "name": "stdout",
     "output_type": "stream",
     "text": [
      "There are 0 users that apear more than once in the dataset.\n"
     ]
    }
   ],
   "source": [
    "# removing duplicates\n",
    "\n",
    "#df.duplicated(subset = ['user id']).sum() -> gives duplicate user ids\n",
    "\n",
    "# another way of couting the duplicate users.\n",
    "user_count = df['user id'].value_counts(ascending = False)\n",
    "duplicate_users = user_count[user_count > 1].count()\n",
    "print(f\"There are {duplicate_users} users that apear more than once in the dataset.\")\n"
   ]
  },
  {
   "cell_type": "markdown",
   "id": "0de6ac63-8640-49f2-bc0f-7ab9e2329d21",
   "metadata": {},
   "source": [
    "**Note:**\n",
    "Here, there are no duplicates so we are good to go aheah and perform sampling. If there are duplicate users, use the following code:\n",
    "\n",
    "```python\n",
    "drop_users = user_count[user_count > 1].index\n",
    "df = df[~df['user_id'].isin(users_to_drop)]\n",
    "print(f'The updated dataset now has {df.shape[0]} entries')"
   ]
  },
  {
   "cell_type": "markdown",
   "id": "5c17b500-0ce4-432c-bfa3-2f5d81bbe6b6",
   "metadata": {},
   "source": [
    "#### Step 3.3: Perform Sampling\n",
    "\n",
    "Now we have clean data with only the required columns. Next, we can go ahead and sample 4720 observations for each group. \n",
    "\n",
    "For random sampling, since this is a dataframe and not general sampling, we will use dataframe.sample() method."
   ]
  },
  {
   "cell_type": "code",
   "execution_count": 9,
   "id": "231869fb-3adc-4913-8d2d-863e9b753cff",
   "metadata": {},
   "outputs": [
    {
     "data": {
      "text/html": [
       "<div>\n",
       "<style scoped>\n",
       "    .dataframe tbody tr th:only-of-type {\n",
       "        vertical-align: middle;\n",
       "    }\n",
       "\n",
       "    .dataframe tbody tr th {\n",
       "        vertical-align: top;\n",
       "    }\n",
       "\n",
       "    .dataframe thead th {\n",
       "        text-align: right;\n",
       "    }\n",
       "</style>\n",
       "<table border=\"1\" class=\"dataframe\">\n",
       "  <thead>\n",
       "    <tr style=\"text-align: right;\">\n",
       "      <th></th>\n",
       "      <th>user id</th>\n",
       "      <th>test group</th>\n",
       "      <th>converted</th>\n",
       "    </tr>\n",
       "  </thead>\n",
       "  <tbody>\n",
       "    <tr>\n",
       "      <th>165387</th>\n",
       "      <td>918123</td>\n",
       "      <td>psa</td>\n",
       "      <td>False</td>\n",
       "    </tr>\n",
       "    <tr>\n",
       "      <th>145147</th>\n",
       "      <td>917901</td>\n",
       "      <td>psa</td>\n",
       "      <td>False</td>\n",
       "    </tr>\n",
       "    <tr>\n",
       "      <th>154972</th>\n",
       "      <td>912483</td>\n",
       "      <td>psa</td>\n",
       "      <td>True</td>\n",
       "    </tr>\n",
       "    <tr>\n",
       "      <th>545980</th>\n",
       "      <td>905854</td>\n",
       "      <td>psa</td>\n",
       "      <td>False</td>\n",
       "    </tr>\n",
       "    <tr>\n",
       "      <th>549532</th>\n",
       "      <td>913535</td>\n",
       "      <td>psa</td>\n",
       "      <td>False</td>\n",
       "    </tr>\n",
       "    <tr>\n",
       "      <th>...</th>\n",
       "      <td>...</td>\n",
       "      <td>...</td>\n",
       "      <td>...</td>\n",
       "    </tr>\n",
       "    <tr>\n",
       "      <th>61614</th>\n",
       "      <td>902508</td>\n",
       "      <td>psa</td>\n",
       "      <td>False</td>\n",
       "    </tr>\n",
       "    <tr>\n",
       "      <th>385162</th>\n",
       "      <td>918147</td>\n",
       "      <td>psa</td>\n",
       "      <td>False</td>\n",
       "    </tr>\n",
       "    <tr>\n",
       "      <th>578610</th>\n",
       "      <td>904136</td>\n",
       "      <td>psa</td>\n",
       "      <td>False</td>\n",
       "    </tr>\n",
       "    <tr>\n",
       "      <th>541125</th>\n",
       "      <td>900138</td>\n",
       "      <td>psa</td>\n",
       "      <td>False</td>\n",
       "    </tr>\n",
       "    <tr>\n",
       "      <th>34779</th>\n",
       "      <td>916276</td>\n",
       "      <td>psa</td>\n",
       "      <td>False</td>\n",
       "    </tr>\n",
       "  </tbody>\n",
       "</table>\n",
       "<p>4720 rows × 3 columns</p>\n",
       "</div>"
      ],
      "text/plain": [
       "        user id test group  converted\n",
       "165387   918123        psa      False\n",
       "145147   917901        psa      False\n",
       "154972   912483        psa       True\n",
       "545980   905854        psa      False\n",
       "549532   913535        psa      False\n",
       "...         ...        ...        ...\n",
       "61614    902508        psa      False\n",
       "385162   918147        psa      False\n",
       "578610   904136        psa      False\n",
       "541125   900138        psa      False\n",
       "34779    916276        psa      False\n",
       "\n",
       "[4720 rows x 3 columns]"
      ]
     },
     "execution_count": 9,
     "metadata": {},
     "output_type": "execute_result"
    }
   ],
   "source": [
    "control_sample = df[df['test group']== 'psa'].sample(n=required_sample_size, random_state= 88)\n",
    "control_sample "
   ]
  },
  {
   "cell_type": "code",
   "execution_count": 10,
   "id": "7a201fa1-023e-4c01-8c24-525145aca1c4",
   "metadata": {},
   "outputs": [
    {
     "data": {
      "text/html": [
       "<div>\n",
       "<style scoped>\n",
       "    .dataframe tbody tr th:only-of-type {\n",
       "        vertical-align: middle;\n",
       "    }\n",
       "\n",
       "    .dataframe tbody tr th {\n",
       "        vertical-align: top;\n",
       "    }\n",
       "\n",
       "    .dataframe thead th {\n",
       "        text-align: right;\n",
       "    }\n",
       "</style>\n",
       "<table border=\"1\" class=\"dataframe\">\n",
       "  <thead>\n",
       "    <tr style=\"text-align: right;\">\n",
       "      <th></th>\n",
       "      <th>user id</th>\n",
       "      <th>test group</th>\n",
       "      <th>converted</th>\n",
       "    </tr>\n",
       "  </thead>\n",
       "  <tbody>\n",
       "    <tr>\n",
       "      <th>154870</th>\n",
       "      <td>1228623</td>\n",
       "      <td>ad</td>\n",
       "      <td>False</td>\n",
       "    </tr>\n",
       "    <tr>\n",
       "      <th>34958</th>\n",
       "      <td>1536273</td>\n",
       "      <td>ad</td>\n",
       "      <td>False</td>\n",
       "    </tr>\n",
       "    <tr>\n",
       "      <th>200581</th>\n",
       "      <td>1554524</td>\n",
       "      <td>ad</td>\n",
       "      <td>False</td>\n",
       "    </tr>\n",
       "    <tr>\n",
       "      <th>30715</th>\n",
       "      <td>1067171</td>\n",
       "      <td>ad</td>\n",
       "      <td>False</td>\n",
       "    </tr>\n",
       "    <tr>\n",
       "      <th>400732</th>\n",
       "      <td>1283830</td>\n",
       "      <td>ad</td>\n",
       "      <td>False</td>\n",
       "    </tr>\n",
       "    <tr>\n",
       "      <th>...</th>\n",
       "      <td>...</td>\n",
       "      <td>...</td>\n",
       "      <td>...</td>\n",
       "    </tr>\n",
       "    <tr>\n",
       "      <th>38246</th>\n",
       "      <td>1132763</td>\n",
       "      <td>ad</td>\n",
       "      <td>True</td>\n",
       "    </tr>\n",
       "    <tr>\n",
       "      <th>103349</th>\n",
       "      <td>1347359</td>\n",
       "      <td>ad</td>\n",
       "      <td>False</td>\n",
       "    </tr>\n",
       "    <tr>\n",
       "      <th>489076</th>\n",
       "      <td>1230522</td>\n",
       "      <td>ad</td>\n",
       "      <td>False</td>\n",
       "    </tr>\n",
       "    <tr>\n",
       "      <th>453161</th>\n",
       "      <td>1034140</td>\n",
       "      <td>ad</td>\n",
       "      <td>False</td>\n",
       "    </tr>\n",
       "    <tr>\n",
       "      <th>40618</th>\n",
       "      <td>1260008</td>\n",
       "      <td>ad</td>\n",
       "      <td>False</td>\n",
       "    </tr>\n",
       "  </tbody>\n",
       "</table>\n",
       "<p>4720 rows × 3 columns</p>\n",
       "</div>"
      ],
      "text/plain": [
       "        user id test group  converted\n",
       "154870  1228623         ad      False\n",
       "34958   1536273         ad      False\n",
       "200581  1554524         ad      False\n",
       "30715   1067171         ad      False\n",
       "400732  1283830         ad      False\n",
       "...         ...        ...        ...\n",
       "38246   1132763         ad       True\n",
       "103349  1347359         ad      False\n",
       "489076  1230522         ad      False\n",
       "453161  1034140         ad      False\n",
       "40618   1260008         ad      False\n",
       "\n",
       "[4720 rows x 3 columns]"
      ]
     },
     "execution_count": 10,
     "metadata": {},
     "output_type": "execute_result"
    }
   ],
   "source": [
    "experimental_sample = df[df['test group']== 'ad'].sample(n=required_sample_size, random_state= 88)\n",
    "experimental_sample "
   ]
  },
  {
   "cell_type": "code",
   "execution_count": 11,
   "id": "2f1b6815-7473-49ae-b4f5-1ffaf1f5b89f",
   "metadata": {},
   "outputs": [],
   "source": [
    "# Concatenate the two samples to create our testing dataset. Remember to concatenate horizontally.\n",
    "\n",
    "test_data = pd.concat([control_sample, experimental_sample], axis = 0) # axis = 0 means merge rows. \n"
   ]
  },
  {
   "cell_type": "code",
   "execution_count": 12,
   "id": "265627a4-e36a-4c62-9a07-9e985b8a948a",
   "metadata": {},
   "outputs": [
    {
     "data": {
      "text/html": [
       "<div>\n",
       "<style scoped>\n",
       "    .dataframe tbody tr th:only-of-type {\n",
       "        vertical-align: middle;\n",
       "    }\n",
       "\n",
       "    .dataframe tbody tr th {\n",
       "        vertical-align: top;\n",
       "    }\n",
       "\n",
       "    .dataframe thead th {\n",
       "        text-align: right;\n",
       "    }\n",
       "</style>\n",
       "<table border=\"1\" class=\"dataframe\">\n",
       "  <thead>\n",
       "    <tr style=\"text-align: right;\">\n",
       "      <th></th>\n",
       "      <th>user id</th>\n",
       "      <th>test group</th>\n",
       "      <th>converted</th>\n",
       "    </tr>\n",
       "  </thead>\n",
       "  <tbody>\n",
       "    <tr>\n",
       "      <th>165387</th>\n",
       "      <td>918123</td>\n",
       "      <td>psa</td>\n",
       "      <td>False</td>\n",
       "    </tr>\n",
       "    <tr>\n",
       "      <th>145147</th>\n",
       "      <td>917901</td>\n",
       "      <td>psa</td>\n",
       "      <td>False</td>\n",
       "    </tr>\n",
       "    <tr>\n",
       "      <th>154972</th>\n",
       "      <td>912483</td>\n",
       "      <td>psa</td>\n",
       "      <td>True</td>\n",
       "    </tr>\n",
       "    <tr>\n",
       "      <th>545980</th>\n",
       "      <td>905854</td>\n",
       "      <td>psa</td>\n",
       "      <td>False</td>\n",
       "    </tr>\n",
       "    <tr>\n",
       "      <th>549532</th>\n",
       "      <td>913535</td>\n",
       "      <td>psa</td>\n",
       "      <td>False</td>\n",
       "    </tr>\n",
       "  </tbody>\n",
       "</table>\n",
       "</div>"
      ],
      "text/plain": [
       "        user id test group  converted\n",
       "165387   918123        psa      False\n",
       "145147   917901        psa      False\n",
       "154972   912483        psa       True\n",
       "545980   905854        psa      False\n",
       "549532   913535        psa      False"
      ]
     },
     "execution_count": 12,
     "metadata": {},
     "output_type": "execute_result"
    }
   ],
   "source": [
    "test_data.head()"
   ]
  },
  {
   "cell_type": "markdown",
   "id": "d0181763-cbd2-42e3-8aa9-cb44331e4685",
   "metadata": {},
   "source": [
    "So now we have our test dataset in a dataframe \"test_data\" with only required number of observations. Now we can go ahead and analyze the data to find any insights."
   ]
  },
  {
   "cell_type": "markdown",
   "id": "ba61f32f-0ffa-4108-a44c-27035091060e",
   "metadata": {},
   "source": [
    "### Step 4: Analyze + Visualize the data\n",
    "\n",
    "In this step, we will find the value of the parameters that help us to compare the results of the two sample groups.\n",
    "\n",
    "According to Center Limit Theorem (CLT), the means of any two samples follow normal distribution even if the population may or may not be normally distributed.\n",
    "\n",
    "To compare the two samples, we calculate some statistic measures such as the sample mean & sample standard deviation.\n"
   ]
  },
  {
   "cell_type": "code",
   "execution_count": 13,
   "id": "45a151bc-3c7f-4cec-a045-e79ecce8e140",
   "metadata": {},
   "outputs": [
    {
     "data": {
      "text/html": [
       "<div>\n",
       "<style scoped>\n",
       "    .dataframe tbody tr th:only-of-type {\n",
       "        vertical-align: middle;\n",
       "    }\n",
       "\n",
       "    .dataframe tbody tr th {\n",
       "        vertical-align: top;\n",
       "    }\n",
       "\n",
       "    .dataframe thead th {\n",
       "        text-align: right;\n",
       "    }\n",
       "</style>\n",
       "<table border=\"1\" class=\"dataframe\">\n",
       "  <thead>\n",
       "    <tr style=\"text-align: right;\">\n",
       "      <th></th>\n",
       "      <th>user id</th>\n",
       "      <th>test group</th>\n",
       "      <th>converted</th>\n",
       "    </tr>\n",
       "  </thead>\n",
       "  <tbody>\n",
       "    <tr>\n",
       "      <th>165387</th>\n",
       "      <td>918123</td>\n",
       "      <td>psa</td>\n",
       "      <td>False</td>\n",
       "    </tr>\n",
       "    <tr>\n",
       "      <th>145147</th>\n",
       "      <td>917901</td>\n",
       "      <td>psa</td>\n",
       "      <td>False</td>\n",
       "    </tr>\n",
       "    <tr>\n",
       "      <th>154972</th>\n",
       "      <td>912483</td>\n",
       "      <td>psa</td>\n",
       "      <td>True</td>\n",
       "    </tr>\n",
       "    <tr>\n",
       "      <th>545980</th>\n",
       "      <td>905854</td>\n",
       "      <td>psa</td>\n",
       "      <td>False</td>\n",
       "    </tr>\n",
       "    <tr>\n",
       "      <th>549532</th>\n",
       "      <td>913535</td>\n",
       "      <td>psa</td>\n",
       "      <td>False</td>\n",
       "    </tr>\n",
       "  </tbody>\n",
       "</table>\n",
       "</div>"
      ],
      "text/plain": [
       "        user id test group  converted\n",
       "165387   918123        psa      False\n",
       "145147   917901        psa      False\n",
       "154972   912483        psa       True\n",
       "545980   905854        psa      False\n",
       "549532   913535        psa      False"
      ]
     },
     "execution_count": 13,
     "metadata": {},
     "output_type": "execute_result"
    }
   ],
   "source": [
    "test_data.head()"
   ]
  },
  {
   "cell_type": "code",
   "execution_count": 14,
   "id": "4cc33cf7-95d3-428a-ba39-a461b4857631",
   "metadata": {
    "scrolled": true
   },
   "outputs": [
    {
     "data": {
      "text/html": [
       "<div>\n",
       "<style scoped>\n",
       "    .dataframe tbody tr th:only-of-type {\n",
       "        vertical-align: middle;\n",
       "    }\n",
       "\n",
       "    .dataframe tbody tr th {\n",
       "        vertical-align: top;\n",
       "    }\n",
       "\n",
       "    .dataframe thead tr th {\n",
       "        text-align: left;\n",
       "    }\n",
       "\n",
       "    .dataframe thead tr:last-of-type th {\n",
       "        text-align: right;\n",
       "    }\n",
       "</style>\n",
       "<table border=\"1\" class=\"dataframe\">\n",
       "  <thead>\n",
       "    <tr>\n",
       "      <th></th>\n",
       "      <th colspan=\"3\" halign=\"left\">converted</th>\n",
       "    </tr>\n",
       "    <tr>\n",
       "      <th></th>\n",
       "      <th>mean</th>\n",
       "      <th>std</th>\n",
       "      <th>sem</th>\n",
       "    </tr>\n",
       "    <tr>\n",
       "      <th>test group</th>\n",
       "      <th></th>\n",
       "      <th></th>\n",
       "      <th></th>\n",
       "    </tr>\n",
       "  </thead>\n",
       "  <tbody>\n",
       "    <tr>\n",
       "      <th>ad</th>\n",
       "      <td>0.025000</td>\n",
       "      <td>0.156141</td>\n",
       "      <td>0.002273</td>\n",
       "    </tr>\n",
       "    <tr>\n",
       "      <th>psa</th>\n",
       "      <td>0.015678</td>\n",
       "      <td>0.124239</td>\n",
       "      <td>0.001808</td>\n",
       "    </tr>\n",
       "  </tbody>\n",
       "</table>\n",
       "</div>"
      ],
      "text/plain": [
       "           converted                    \n",
       "                mean       std       sem\n",
       "test group                              \n",
       "ad          0.025000  0.156141  0.002273\n",
       "psa         0.015678  0.124239  0.001808"
      ]
     },
     "execution_count": 14,
     "metadata": {},
     "output_type": "execute_result"
    }
   ],
   "source": [
    "# basic statistics measures\n",
    "test_data.groupby(['test group']) [['converted']].agg(['mean', 'std', 'sem'])\n"
   ]
  },
  {
   "cell_type": "markdown",
   "id": "28aa1fea-85e8-4d14-b759-76548365fd7b",
   "metadata": {},
   "source": [
    "Looking at the value of basic statistic measures, it seems the conversion rate for experimental group is more, 2.5% vs 1.5%. Let's also plot the mean value for a clear comparison. "
   ]
  },
  {
   "cell_type": "code",
   "execution_count": 15,
   "id": "859a8c97-1b60-4a0b-a69e-d6cb8b68e71c",
   "metadata": {},
   "outputs": [
    {
     "data": {
      "text/plain": [
       "Text(0.5, 1.0, 'Comparing Mean Conversion Rate by Group')"
      ]
     },
     "execution_count": 15,
     "metadata": {},
     "output_type": "execute_result"
    },
    {
     "data": {
      "image/png": "[encoded data removed]",
      "text/plain": [
       "<Figure size 800x800 with 1 Axes>"
      ]
     },
     "metadata": {},
     "output_type": "display_data"
    }
   ],
   "source": [
    "# Visualizing the mean of the control and experimental group\n",
    "\n",
    "plt.figure(figsize = (8,8))\n",
    "\n",
    "sns.barplot(x = test_data['test group'], y = test_data['converted'], ci=False)\n",
    "plt.title(\"Comparing Mean Conversion Rate by Group\")"
   ]
  },
  {
   "cell_type": "markdown",
   "id": "301dbfed-005c-4d02-80a5-9edd324e4848",
   "metadata": {},
   "source": [
    "As we can see, the experimental group has clearly performed better. But the real question is **if this difference in the conversion rate from the two groups statistically significant?**"
   ]
  },
  {
   "cell_type": "markdown",
   "id": "051ff85f-acb1-4655-b9f7-336f9ba577e1",
   "metadata": {},
   "source": [
    "### 5. Test the hypothesis\n",
    "\n",
    "We are now at the most important stage of our A/B testing process. In this stage, we will test our hypothesis using suitable statistical tests in the attempt to find out if the difference in the conversion rate observed is statistically significant. \n",
    "\n",
    "To do so, we will do the following:\\\n",
    "    1. Choose the appropriate test based on \n",
    "    (i) # of Samples  (ii) Type of Metric Variable (iii) Direction of comparison (iv) Statistical test\\\n",
    "    2. Choose the appropriate Python library to perform the test.\\\n",
    "    3. Find the p-value that represents the difference in the performance. \n",
    "\n",
    "Here, we have \n",
    "- **two independent samples (control & experimental)**\n",
    "- the primary metric represents **proportion or is categorical in nature**\n",
    "- direction of comparison is two-tailed\n",
    "\n",
    "Therefore, our test options for proportions tests are:\n",
    "1. z-test to find z-statistic & p-value | Because population variance is known & sample size is greater than 30.\n",
    "2. Chi2 test for independence to find chi2 value & p-value | Because we have two variables \"test group\" and \"converted\"(contingency tab)  \n",
    "\n"
   ]
  },
  {
   "cell_type": "code",
   "execution_count": 16,
   "id": "49778b8a-56cd-41c8-b776-0d4fb174a4f0",
   "metadata": {},
   "outputs": [],
   "source": [
    "# z-test\n",
    "\n",
    "from statsmodels.stats.proportion import proportions_ztest, proportion_confint"
   ]
  },
  {
   "cell_type": "code",
   "execution_count": 17,
   "id": "f5080045-5d17-487a-8e8f-02a21cd09e42",
   "metadata": {},
   "outputs": [],
   "source": [
    "alpha = 0.05\n",
    "control_data = test_data[test_data['test group'] == 'psa']['converted']\n",
    "experimental_data = test_data[test_data['test group'] == 'ad']['converted']\n"
   ]
  },
  {
   "cell_type": "code",
   "execution_count": 18,
   "id": "6c50ab60-4e2b-4081-95a2-37e281d4bafa",
   "metadata": {},
   "outputs": [
    {
     "name": "stdout",
     "output_type": "stream",
     "text": [
      "z_statistic: -3.2082200507270344\n",
      "p_value: 0.0013355926576500159 \n",
      "\n",
      "The p-value is less than 0.05 which implies that the differene is statistically significant. So we reject Null Hypothesis.\n"
     ]
    }
   ],
   "source": [
    "# Get count of successesful conversions\n",
    "converted_yes = [control_data.sum(), experimental_data.sum()]\n",
    "\n",
    "# Get count of observations\n",
    "count_total_obs = [control_data.count(), experimental_data.count()]\n",
    "\n",
    "# z-test stats functions for proportions\n",
    "# ---> proportions_ztest(successful count in each group, total count in each group)\n",
    "\n",
    "z_statistic, p_value = proportions_ztest(converted_yes, count_total_obs)\n",
    "\n",
    "\n",
    "print(f\"z_statistic: {z_statistic}\")\n",
    "print(f\"p_value: {p_value} \\n\")\n",
    "\n",
    "\n",
    "#Check for signifincance & draw conclusion\n",
    "if p_value < alpha:\n",
    "    print(\"The p-value is less than 0.05 which implies that the differene is statistically significant. So we reject Null Hypothesis.\")\n",
    "else:\n",
    "    print(print(\"The p-value is more than 0.05 which implies the differene is not statistically signifianct. So we fail to reject Null Hypothesis.\"))\n"
   ]
  },
  {
   "cell_type": "code",
   "execution_count": 19,
   "id": "85a7354e-0231-4755-b591-c5992bb820f2",
   "metadata": {},
   "outputs": [
    {
     "data": {
      "text/html": [
       "<div>\n",
       "<style scoped>\n",
       "    .dataframe tbody tr th:only-of-type {\n",
       "        vertical-align: middle;\n",
       "    }\n",
       "\n",
       "    .dataframe tbody tr th {\n",
       "        vertical-align: top;\n",
       "    }\n",
       "\n",
       "    .dataframe thead th {\n",
       "        text-align: right;\n",
       "    }\n",
       "</style>\n",
       "<table border=\"1\" class=\"dataframe\">\n",
       "  <thead>\n",
       "    <tr style=\"text-align: right;\">\n",
       "      <th>converted</th>\n",
       "      <th>False</th>\n",
       "      <th>True</th>\n",
       "    </tr>\n",
       "    <tr>\n",
       "      <th>test group</th>\n",
       "      <th></th>\n",
       "      <th></th>\n",
       "    </tr>\n",
       "  </thead>\n",
       "  <tbody>\n",
       "    <tr>\n",
       "      <th>ad</th>\n",
       "      <td>4602</td>\n",
       "      <td>118</td>\n",
       "    </tr>\n",
       "    <tr>\n",
       "      <th>psa</th>\n",
       "      <td>4646</td>\n",
       "      <td>74</td>\n",
       "    </tr>\n",
       "  </tbody>\n",
       "</table>\n",
       "</div>"
      ],
      "text/plain": [
       "converted   False  True \n",
       "test group              \n",
       "ad           4602    118\n",
       "psa          4646     74"
      ]
     },
     "execution_count": 19,
     "metadata": {},
     "output_type": "execute_result"
    }
   ],
   "source": [
    "# Chi2 test\n",
    "\n",
    "from scipy.stats import chi2_contingency\n",
    "\n",
    "alpha = 0.05\n",
    "contingency_tab = pd.crosstab(test_data['test group'], df['converted'])\n",
    "contingency_tab"
   ]
  },
  {
   "cell_type": "code",
   "execution_count": 20,
   "id": "b942377e-656e-4e55-a7ee-7e68799f857f",
   "metadata": {
    "scrolled": true
   },
   "outputs": [
    {
     "name": "stdout",
     "output_type": "stream",
     "text": [
      "Chi2 value: 9.8301434544406\n",
      "p-value: 0.0017167495916502876 \n",
      "\n",
      "The p-value is less than 0.05 which implies that the differene is statistically significant. So we reject Null Hypothesis.\n"
     ]
    }
   ],
   "source": [
    "chi2, p, _, _ = chi2_contingency(contingency_tab)\n",
    "\n",
    "print(f\"Chi2 value: {chi2}\")\n",
    "print(f\"p-value: {p} \\n\")\n",
    "\n",
    "\n",
    "#Check for signifincance & draw conclusion\n",
    "if p < alpha:\n",
    "    print(\"The p-value is less than 0.05 which implies that the differene is statistically significant. So we reject Null Hypothesis.\")\n",
    "else:\n",
    "    print(print(\"The p-value is more than 0.05 which implies the differene is not statistically signifianct. So we fail to reject Null Hypothesis.\"))"
   ]
  },
  {
   "cell_type": "markdown",
   "id": "d564ad30-27d4-4284-b28f-c359276d3c1e",
   "metadata": {},
   "source": [
    "### 6. Draw the conclusion\n",
    "\n",
    "Based on the results of the z-test and chi-squared test, both of which produced p-values less than the significance level of alpha = 0.05, we reject the null hypothesis (Ho). This indicates that exposure to ads has a statistically significant impact on conversion rates, with a proven 2% increase.\n",
    "\n",
    "These findings provide a solid foundation for the ShopSpectra marketing team to make informed, data-driven decisions in designing targeted ad campaigns."
   ]
  }
 ],
 "metadata": {
  "kernelspec": {
   "display_name": "Python 3 (ipykernel)",
   "language": "python",
   "name": "python3"
  },
  "language_info": {
   "codemirror_mode": {
    "name": "ipython",
    "version": 3
   },
   "file_extension": ".py",
   "mimetype": "text/x-python",
   "name": "python",
   "nbconvert_exporter": "python",
   "pygments_lexer": "ipython3",
   "version": "3.11.7"
  }
 },
 "nbformat": 4,
 "nbformat_minor": 5
}
